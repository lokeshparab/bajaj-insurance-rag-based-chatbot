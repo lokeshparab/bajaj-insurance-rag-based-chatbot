{
 "cells": [
  {
   "cell_type": "code",
   "execution_count": 7,
   "id": "541ca37c",
   "metadata": {},
   "outputs": [
    {
     "data": {
      "text/plain": [
       "{'dataset': 'data/bajaj_insurance_documents_statewise.json',\n",
       " 'llm': [{'meta-llama/llama-guard-4-12b': 7500},\n",
       "  {'llama-3.3-70b-versatile': 6000},\n",
       "  {'openai/gpt-oss-120b': 4000},\n",
       "  {'openai/gpt-oss-20b': 4000},\n",
       "  {'llama-3.1-8b-instant': 3000}],\n",
       " 'astradb': {'collection_name': 'bajaj_insurance',\n",
       "  'embedding_model': 'jina-embeddings-v2-base-en',\n",
       "  'top_k': 5},\n",
       " 'model': {'path': 'artifact/model/model.pkl',\n",
       "  'report_path': 'artifact/model/report.csv'}}"
      ]
     },
     "execution_count": 7,
     "metadata": {},
     "output_type": "execute_result"
    }
   ],
   "source": [
    "from src.utils import load_config\n",
    "\n",
    "config = load_config('../config/config.yaml')\n",
    "config"
   ]
  },
  {
   "cell_type": "code",
   "execution_count": 16,
   "id": "3c943ea9",
   "metadata": {},
   "outputs": [
    {
     "name": "stdout",
     "output_type": "stream",
     "text": [
      "{'meta-llama/llama-guard-4-12b': 7500}\n",
      "dict_keys(['meta-llama/llama-guard-4-12b'])\n",
      "dict_values([7500])\n",
      "{'llama-3.3-70b-versatile': 6000}\n",
      "dict_keys(['llama-3.3-70b-versatile'])\n",
      "dict_values([6000])\n",
      "{'openai/gpt-oss-120b': 4000}\n",
      "dict_keys(['openai/gpt-oss-120b'])\n",
      "dict_values([4000])\n",
      "{'openai/gpt-oss-20b': 4000}\n",
      "dict_keys(['openai/gpt-oss-20b'])\n",
      "dict_values([4000])\n",
      "{'llama-3.1-8b-instant': 3000}\n",
      "dict_keys(['llama-3.1-8b-instant'])\n",
      "dict_values([3000])\n"
     ]
    }
   ],
   "source": [
    "dd={}\n",
    "for model in config['llm']:\n",
    "    print(model)\n",
    "    print(model.keys())\n",
    "    print(model.values())\n",
    "    # dd.update(model)\n",
    "    {\n",
    "        \n",
    "    }\n",
    "    # break\n"
   ]
  },
  {
   "cell_type": "code",
   "execution_count": 18,
   "id": "b0d5de7c",
   "metadata": {},
   "outputs": [
    {
     "data": {
      "text/plain": [
       "{'meta-llama/llama-guard-4-12b': 7500,\n",
       " 'llama-3.3-70b-versatile': 6000,\n",
       " 'openai/gpt-oss-120b': 4000,\n",
       " 'openai/gpt-oss-20b': 4000,\n",
       " 'llama-3.1-8b-instant': 3000}"
      ]
     },
     "execution_count": 18,
     "metadata": {},
     "output_type": "execute_result"
    }
   ],
   "source": [
    "{\n",
    "    list(d.keys())[0]:list(d.values())[0] for d in config['llm']\n",
    "}"
   ]
  },
  {
   "cell_type": "code",
   "execution_count": 14,
   "id": "74ecba3b",
   "metadata": {},
   "outputs": [
    {
     "data": {
      "text/plain": [
       "{'meta-llama/llama-guard-4-12b': 7500,\n",
       " 'llama-3.3-70b-versatile': 6000,\n",
       " 'openai/gpt-oss-120b': 4000,\n",
       " 'openai/gpt-oss-20b': 4000,\n",
       " 'llama-3.1-8b-instant': 3000}"
      ]
     },
     "execution_count": 14,
     "metadata": {},
     "output_type": "execute_result"
    }
   ],
   "source": [
    "dd"
   ]
  },
  {
   "cell_type": "code",
   "execution_count": 2,
   "id": "d2cd70c8",
   "metadata": {},
   "outputs": [],
   "source": [
    "from exception.custom_exception import CustomException"
   ]
  },
  {
   "cell_type": "code",
   "execution_count": 11,
   "id": "1e5f0aa0",
   "metadata": {},
   "outputs": [
    {
     "data": {
      "text/plain": [
       "{'meta-llama/llama-guard-4-12b': 7500}"
      ]
     },
     "execution_count": 11,
     "metadata": {},
     "output_type": "execute_result"
    }
   ],
   "source": [
    "dd"
   ]
  },
  {
   "cell_type": "code",
   "execution_count": null,
   "id": "8d39d279",
   "metadata": {},
   "outputs": [],
   "source": []
  }
 ],
 "metadata": {
  "kernelspec": {
   "display_name": "bajaj-insurance-rag-based-chatbot",
   "language": "python",
   "name": "python3"
  },
  "language_info": {
   "codemirror_mode": {
    "name": "ipython",
    "version": 3
   },
   "file_extension": ".py",
   "mimetype": "text/x-python",
   "name": "python",
   "nbconvert_exporter": "python",
   "pygments_lexer": "ipython3",
   "version": "3.10.18"
  }
 },
 "nbformat": 4,
 "nbformat_minor": 5
}
