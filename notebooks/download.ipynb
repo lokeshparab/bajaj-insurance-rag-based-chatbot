{
 "cells": [
  {
   "cell_type": "markdown",
   "id": "d31c416b",
   "metadata": {},
   "source": [
    "# Import Library"
   ]
  },
  {
   "cell_type": "code",
   "execution_count": 1,
   "id": "fa13758c",
   "metadata": {},
   "outputs": [],
   "source": [
    "import pandas as pd, numpy as np, requests, os, json\n",
    "from bs4 import BeautifulSoup as BS"
   ]
  },
  {
   "cell_type": "markdown",
   "id": "7349bdbf",
   "metadata": {},
   "source": [
    "# Static Data"
   ]
  },
  {
   "cell_type": "code",
   "execution_count": 2,
   "id": "5a439f1c",
   "metadata": {},
   "outputs": [],
   "source": [
    "source = 'https://www.bajajallianz.com/health-insurance-plans/health-insurance-documents.html'\n",
    "author = 'Bajaj Allianz'"
   ]
  },
  {
   "cell_type": "markdown",
   "id": "c6b1897b",
   "metadata": {},
   "source": [
    "# Scraper"
   ]
  },
  {
   "cell_type": "code",
   "execution_count": 3,
   "id": "b3f23ab7",
   "metadata": {},
   "outputs": [],
   "source": [
    "content =  requests.get('https://www.bajajallianz.com/health-insurance-plans/health-insurance-documents.html').content\n",
    "soup = BS(content, 'lxml')\n",
    "\n",
    "table_data = soup.find('section', {'class': 'typography-section'}).find('tbody').find_all('tr')\n"
   ]
  },
  {
   "cell_type": "code",
   "execution_count": 4,
   "id": "7fdeb71c",
   "metadata": {},
   "outputs": [
    {
     "data": {
      "text/plain": [
       "25"
      ]
     },
     "execution_count": 4,
     "metadata": {},
     "output_type": "execute_result"
    }
   ],
   "source": [
    "len(table_data)"
   ]
  },
  {
   "cell_type": "code",
   "execution_count": 5,
   "id": "1d171cc2",
   "metadata": {},
   "outputs": [],
   "source": [
    "data = {}\n",
    "columns_names = {\n",
    "    1:\"Brochure\", 2:\"Customer Information Sheet\", 3:\"Policy Wordings\", 4:\"Proposal Form\"\n",
    "}\n",
    "\n",
    "for row in table_data:\n",
    "    cols = row.find_all('td') \n",
    "    data[cols[0].text.strip()] = {\n",
    "        columns_names[idx]: [\n",
    "            link['href']\n",
    "            for link in col.find_all('a')\n",
    "        ]\n",
    "        for idx,col in enumerate(cols[1:],start=1)\n",
    "    }\n"
   ]
  },
  {
   "cell_type": "markdown",
   "id": "f81550e1",
   "metadata": {},
   "source": [
    "# Save data"
   ]
  },
  {
   "cell_type": "code",
   "execution_count": 6,
   "id": "f09b0ce8",
   "metadata": {},
   "outputs": [],
   "source": [
    "os.makedirs('../data', exist_ok=True)\n",
    "\n",
    "with open('../data/bajaj_insurance_documents_statewise.json', 'w') as f:\n",
    "    json.dump(\n",
    "        {\n",
    "            \"source\": source,\n",
    "            \"author\": author,\n",
    "            \"data\": data\n",
    "        }, \n",
    "        f, indent=4\n",
    "    )"
   ]
  },
  {
   "cell_type": "markdown",
   "id": "21a6efab",
   "metadata": {},
   "source": [
    "# Save PDF FILES"
   ]
  },
  {
   "cell_type": "code",
   "execution_count": 1,
   "id": "0a0093ae",
   "metadata": {},
   "outputs": [
    {
     "name": "stdout",
     "output_type": "stream",
     "text": [
      "Found 174 PDF files to download...\n"
     ]
    },
    {
     "name": "stderr",
     "output_type": "stream",
     "text": [
      "  1%|          | 1/174 [00:09<27:41,  9.60s/it]"
     ]
    },
    {
     "name": "stdout",
     "output_type": "stream",
     "text": [
      "✅ Downloaded: downloaded_pdfs\\Mee_Kosam-_Andhra_Pradesh_and_Telangana\\Brochure_Mee_Kosam-Andhra_Pradesh_Telangana_Brochure.pdf\n"
     ]
    },
    {
     "name": "stderr",
     "output_type": "stream",
     "text": [
      "  1%|          | 2/174 [00:21<31:18, 10.92s/it]"
     ]
    },
    {
     "name": "stdout",
     "output_type": "stream",
     "text": [
      "✅ Downloaded: downloaded_pdfs\\Mee_Kosam-_Andhra_Pradesh_and_Telangana\\Brochure_Mee-Kosam-Andhra-Pradesh-Telangana.pdf\n"
     ]
    },
    {
     "name": "stderr",
     "output_type": "stream",
     "text": [
      "  2%|▏         | 3/174 [00:22<18:41,  6.56s/it]"
     ]
    },
    {
     "name": "stdout",
     "output_type": "stream",
     "text": [
      "✅ Downloaded: downloaded_pdfs\\Mee_Kosam-_Andhra_Pradesh_and_Telangana\\Brochure_Mee_Kosam-Andhra_Pradesh_Telangana_Prospectus.pdf\n"
     ]
    },
    {
     "name": "stderr",
     "output_type": "stream",
     "text": [
      "  2%|▏         | 4/174 [00:24<12:42,  4.49s/it]"
     ]
    },
    {
     "name": "stdout",
     "output_type": "stream",
     "text": [
      "✅ Downloaded: downloaded_pdfs\\Mee_Kosam-_Andhra_Pradesh_and_Telangana\\Customer_Information_Sheet_Mee_Kosam-Andhra_Pradesh_Telangana_CIS.pdf\n"
     ]
    },
    {
     "name": "stderr",
     "output_type": "stream",
     "text": [
      "  3%|▎         | 5/174 [00:25<09:28,  3.36s/it]"
     ]
    },
    {
     "name": "stdout",
     "output_type": "stream",
     "text": [
      "✅ Downloaded: downloaded_pdfs\\Mee_Kosam-_Andhra_Pradesh_and_Telangana\\Policy_Wordings_Mee_Kosam-Andhra_Pradesh_Telangana_Policy_Wordings.pdf\n"
     ]
    },
    {
     "name": "stderr",
     "output_type": "stream",
     "text": [
      "  3%|▎         | 6/174 [00:26<07:28,  2.67s/it]"
     ]
    },
    {
     "name": "stdout",
     "output_type": "stream",
     "text": [
      "✅ Downloaded: downloaded_pdfs\\Mee_Kosam-_Andhra_Pradesh_and_Telangana\\Proposal_Form_Mee_Kosam-Andhra_Pradesh_Telangana_Proposal_Form.pdf\n"
     ]
    },
    {
     "name": "stderr",
     "output_type": "stream",
     "text": [
      "  4%|▍         | 7/174 [00:29<07:09,  2.57s/it]"
     ]
    },
    {
     "name": "stdout",
     "output_type": "stream",
     "text": [
      "✅ Downloaded: downloaded_pdfs\\Mee_Kosam-_Andhra_Pradesh_and_Telangana\\Proposal_Form_Mee_Kosam-Andhra_Pradesh_Telangana_Digital_PF.pdf\n"
     ]
    },
    {
     "name": "stderr",
     "output_type": "stream",
     "text": [
      "  5%|▍         | 8/174 [00:39<14:20,  5.18s/it]"
     ]
    },
    {
     "name": "stdout",
     "output_type": "stream",
     "text": [
      "✅ Downloaded: downloaded_pdfs\\Nimagagi-_Karnataka\\Brochure_Nimagagi-Karnataka_Brochure.pdf\n"
     ]
    },
    {
     "name": "stderr",
     "output_type": "stream",
     "text": [
      "  5%|▌         | 9/174 [00:48<17:12,  6.25s/it]"
     ]
    },
    {
     "name": "stdout",
     "output_type": "stream",
     "text": [
      "✅ Downloaded: downloaded_pdfs\\Nimagagi-_Karnataka\\Brochure_Nimagagi-Karnataka.pdf\n"
     ]
    },
    {
     "name": "stderr",
     "output_type": "stream",
     "text": [
      "  6%|▌         | 10/174 [00:49<12:45,  4.67s/it]"
     ]
    },
    {
     "name": "stdout",
     "output_type": "stream",
     "text": [
      "✅ Downloaded: downloaded_pdfs\\Nimagagi-_Karnataka\\Brochure_Nimagagi-Karnataka_Prospectus.pdf\n"
     ]
    },
    {
     "name": "stderr",
     "output_type": "stream",
     "text": [
      "  6%|▋         | 11/174 [00:50<09:49,  3.62s/it]"
     ]
    },
    {
     "name": "stdout",
     "output_type": "stream",
     "text": [
      "✅ Downloaded: downloaded_pdfs\\Nimagagi-_Karnataka\\Customer_Information_Sheet_Nimagagi-Karnataka_CIS.pdf\n"
     ]
    },
    {
     "name": "stderr",
     "output_type": "stream",
     "text": [
      "  7%|▋         | 12/174 [00:52<07:59,  2.96s/it]"
     ]
    },
    {
     "name": "stdout",
     "output_type": "stream",
     "text": [
      "✅ Downloaded: downloaded_pdfs\\Nimagagi-_Karnataka\\Policy_Wordings_Nimagagi-Karnataka_Policy_Wordings.pdf\n"
     ]
    },
    {
     "name": "stderr",
     "output_type": "stream",
     "text": [
      "  7%|▋         | 13/174 [00:54<06:52,  2.56s/it]"
     ]
    },
    {
     "name": "stdout",
     "output_type": "stream",
     "text": [
      "✅ Downloaded: downloaded_pdfs\\Nimagagi-_Karnataka\\Proposal_Form_Nimagagi-Karnataka_Proposal_Form.pdf\n"
     ]
    },
    {
     "name": "stderr",
     "output_type": "stream",
     "text": [
      "  8%|▊         | 14/174 [00:55<06:10,  2.31s/it]"
     ]
    },
    {
     "name": "stdout",
     "output_type": "stream",
     "text": [
      "✅ Downloaded: downloaded_pdfs\\Nimagagi-_Karnataka\\Proposal_Form_Nimagagi-Karnataka_Digital_PF.pdf\n"
     ]
    },
    {
     "name": "stderr",
     "output_type": "stream",
     "text": [
      "  9%|▊         | 15/174 [01:04<11:27,  4.32s/it]"
     ]
    },
    {
     "name": "stdout",
     "output_type": "stream",
     "text": [
      "✅ Downloaded: downloaded_pdfs\\Aponar_Babe-_Assam\\Brochure_Aponar_Babe-Assam_Brochure.pdf\n"
     ]
    },
    {
     "name": "stderr",
     "output_type": "stream",
     "text": [
      "  9%|▉         | 16/174 [01:10<12:37,  4.79s/it]"
     ]
    },
    {
     "name": "stdout",
     "output_type": "stream",
     "text": [
      "✅ Downloaded: downloaded_pdfs\\Aponar_Babe-_Assam\\Brochure_Aponar-Babe-Assam.pdf\n"
     ]
    },
    {
     "name": "stderr",
     "output_type": "stream",
     "text": [
      " 10%|▉         | 17/174 [01:12<09:52,  3.77s/it]"
     ]
    },
    {
     "name": "stdout",
     "output_type": "stream",
     "text": [
      "✅ Downloaded: downloaded_pdfs\\Aponar_Babe-_Assam\\Brochure_Aponar_Babe-Assam_Prospectus.pdf\n"
     ]
    },
    {
     "name": "stderr",
     "output_type": "stream",
     "text": [
      " 10%|█         | 18/174 [01:13<08:09,  3.14s/it]"
     ]
    },
    {
     "name": "stdout",
     "output_type": "stream",
     "text": [
      "✅ Downloaded: downloaded_pdfs\\Aponar_Babe-_Assam\\Customer_Information_Sheet_Aponar_Babe-Assam_CIS.pdf\n"
     ]
    },
    {
     "name": "stderr",
     "output_type": "stream",
     "text": [
      " 11%|█         | 19/174 [01:15<06:48,  2.64s/it]"
     ]
    },
    {
     "name": "stdout",
     "output_type": "stream",
     "text": [
      "✅ Downloaded: downloaded_pdfs\\Aponar_Babe-_Assam\\Policy_Wordings_Aponar_Babe-Assam_Policy_Wordings.pdf\n"
     ]
    },
    {
     "name": "stderr",
     "output_type": "stream",
     "text": [
      " 11%|█▏        | 20/174 [01:16<06:00,  2.34s/it]"
     ]
    },
    {
     "name": "stdout",
     "output_type": "stream",
     "text": [
      "✅ Downloaded: downloaded_pdfs\\Aponar_Babe-_Assam\\Proposal_Form_Aponar_Babe-Assam_Proposal_Form.pdf\n"
     ]
    },
    {
     "name": "stderr",
     "output_type": "stream",
     "text": [
      " 12%|█▏        | 21/174 [01:18<05:42,  2.24s/it]"
     ]
    },
    {
     "name": "stdout",
     "output_type": "stream",
     "text": [
      "✅ Downloaded: downloaded_pdfs\\Aponar_Babe-_Assam\\Proposal_Form_Aponar_Babe-Assam_Digital_PF.pdf\n"
     ]
    },
    {
     "name": "stderr",
     "output_type": "stream",
     "text": [
      " 13%|█▎        | 22/174 [01:28<11:15,  4.45s/it]"
     ]
    },
    {
     "name": "stdout",
     "output_type": "stream",
     "text": [
      "✅ Downloaded: downloaded_pdfs\\Apananka_Pain-_Odisha\\Brochure_Apananka_Pain_Odisha_Brochure.pdf\n"
     ]
    },
    {
     "name": "stderr",
     "output_type": "stream",
     "text": [
      " 13%|█▎        | 23/174 [01:40<17:09,  6.82s/it]"
     ]
    },
    {
     "name": "stdout",
     "output_type": "stream",
     "text": [
      "✅ Downloaded: downloaded_pdfs\\Apananka_Pain-_Odisha\\Brochure_Apananka-Pain-Odisha.pdf\n"
     ]
    },
    {
     "name": "stderr",
     "output_type": "stream",
     "text": [
      " 14%|█▍        | 24/174 [01:42<12:59,  5.20s/it]"
     ]
    },
    {
     "name": "stdout",
     "output_type": "stream",
     "text": [
      "✅ Downloaded: downloaded_pdfs\\Apananka_Pain-_Odisha\\Brochure_Apananka_Pain-Odisha_Prospectus.pdf\n"
     ]
    },
    {
     "name": "stderr",
     "output_type": "stream",
     "text": [
      " 14%|█▍        | 25/174 [01:43<09:45,  3.93s/it]"
     ]
    },
    {
     "name": "stdout",
     "output_type": "stream",
     "text": [
      "✅ Downloaded: downloaded_pdfs\\Apananka_Pain-_Odisha\\Customer_Information_Sheet_Apananka_Pain-Odisha_CIS.pdf\n"
     ]
    },
    {
     "name": "stderr",
     "output_type": "stream",
     "text": [
      " 15%|█▍        | 26/174 [01:44<07:32,  3.06s/it]"
     ]
    },
    {
     "name": "stdout",
     "output_type": "stream",
     "text": [
      "✅ Downloaded: downloaded_pdfs\\Apananka_Pain-_Odisha\\Policy_Wordings_Apananka_Pain-Odisha_Policy_Wordingsdf.pdf\n"
     ]
    },
    {
     "name": "stderr",
     "output_type": "stream",
     "text": [
      " 16%|█▌        | 27/174 [01:45<05:58,  2.44s/it]"
     ]
    },
    {
     "name": "stdout",
     "output_type": "stream",
     "text": [
      "✅ Downloaded: downloaded_pdfs\\Apananka_Pain-_Odisha\\Proposal_Form_Apananka_Pain-Odisha_Proposal_Form.pdf\n"
     ]
    },
    {
     "name": "stderr",
     "output_type": "stream",
     "text": [
      " 16%|█▌        | 28/174 [01:46<04:51,  1.99s/it]"
     ]
    },
    {
     "name": "stdout",
     "output_type": "stream",
     "text": [
      "✅ Downloaded: downloaded_pdfs\\Apananka_Pain-_Odisha\\Proposal_Form_Apananka_Pain-Odisha_Digital_PF.pdf\n"
     ]
    },
    {
     "name": "stderr",
     "output_type": "stream",
     "text": [
      " 17%|█▋        | 29/174 [01:51<07:16,  3.01s/it]"
     ]
    },
    {
     "name": "stdout",
     "output_type": "stream",
     "text": [
      "✅ Downloaded: downloaded_pdfs\\Apnar_Jonyo-_West_Bengal\\Brochure_Apnar_Jonyo-West_Bengal_Brochure.pdf\n"
     ]
    },
    {
     "name": "stderr",
     "output_type": "stream",
     "text": [
      " 17%|█▋        | 30/174 [01:56<08:23,  3.50s/it]"
     ]
    },
    {
     "name": "stdout",
     "output_type": "stream",
     "text": [
      "✅ Downloaded: downloaded_pdfs\\Apnar_Jonyo-_West_Bengal\\Brochure_Apnar-Jonyo-West-Bengal.pdf\n"
     ]
    },
    {
     "name": "stderr",
     "output_type": "stream",
     "text": [
      " 18%|█▊        | 31/174 [01:57<06:43,  2.82s/it]"
     ]
    },
    {
     "name": "stdout",
     "output_type": "stream",
     "text": [
      "✅ Downloaded: downloaded_pdfs\\Apnar_Jonyo-_West_Bengal\\Brochure_Apnar_Jonyo-West_Bengal_Prospectus.pdf\n"
     ]
    },
    {
     "name": "stderr",
     "output_type": "stream",
     "text": [
      " 18%|█▊        | 32/174 [01:58<05:22,  2.27s/it]"
     ]
    },
    {
     "name": "stdout",
     "output_type": "stream",
     "text": [
      "✅ Downloaded: downloaded_pdfs\\Apnar_Jonyo-_West_Bengal\\Customer_Information_Sheet_Apnar_Jonyo-West_Bengal_CIS.pdf\n"
     ]
    },
    {
     "name": "stderr",
     "output_type": "stream",
     "text": [
      " 19%|█▉        | 33/174 [01:59<04:28,  1.90s/it]"
     ]
    },
    {
     "name": "stdout",
     "output_type": "stream",
     "text": [
      "✅ Downloaded: downloaded_pdfs\\Apnar_Jonyo-_West_Bengal\\Policy_Wordings_Apnar_Jonyo-West_Bengal_Policy_Wordings.pdf\n"
     ]
    },
    {
     "name": "stderr",
     "output_type": "stream",
     "text": [
      " 20%|█▉        | 34/174 [02:00<03:43,  1.60s/it]"
     ]
    },
    {
     "name": "stdout",
     "output_type": "stream",
     "text": [
      "✅ Downloaded: downloaded_pdfs\\Apnar_Jonyo-_West_Bengal\\Proposal_Form_Apnar_Jonyo-West_Bengal_Proposal_Form.pdf\n"
     ]
    },
    {
     "name": "stderr",
     "output_type": "stream",
     "text": [
      " 20%|██        | 35/174 [02:02<03:53,  1.68s/it]"
     ]
    },
    {
     "name": "stdout",
     "output_type": "stream",
     "text": [
      "✅ Downloaded: downloaded_pdfs\\Apnar_Jonyo-_West_Bengal\\Proposal_Form_Apnar_Jonyo-West_Bengal_Digital_PF.pdf\n"
     ]
    },
    {
     "name": "stderr",
     "output_type": "stream",
     "text": [
      " 21%|██        | 36/174 [02:14<11:13,  4.88s/it]"
     ]
    },
    {
     "name": "stdout",
     "output_type": "stream",
     "text": [
      "✅ Downloaded: downloaded_pdfs\\Na_Ka_bynta_jong_phi-_Meghalaya\\Brochure_Na_Ka_bynta_jong_phi-Meghalaya_Brochure.pdf\n"
     ]
    },
    {
     "name": "stderr",
     "output_type": "stream",
     "text": [
      " 21%|██▏       | 37/174 [02:21<12:32,  5.49s/it]"
     ]
    },
    {
     "name": "stdout",
     "output_type": "stream",
     "text": [
      "✅ Downloaded: downloaded_pdfs\\Na_Ka_bynta_jong_phi-_Meghalaya\\Brochure_Na-Ka-bynta-jong-phi-Meghalaya-Khasi.pdf\n"
     ]
    },
    {
     "name": "stderr",
     "output_type": "stream",
     "text": [
      " 22%|██▏       | 38/174 [02:23<09:54,  4.37s/it]"
     ]
    },
    {
     "name": "stdout",
     "output_type": "stream",
     "text": [
      "✅ Downloaded: downloaded_pdfs\\Na_Ka_bynta_jong_phi-_Meghalaya\\Brochure_Na_Ka_bynta_jong_phi-Meghalaya_Prospectus.pdf\n"
     ]
    },
    {
     "name": "stderr",
     "output_type": "stream",
     "text": [
      " 22%|██▏       | 39/174 [02:25<08:24,  3.74s/it]"
     ]
    },
    {
     "name": "stdout",
     "output_type": "stream",
     "text": [
      "✅ Downloaded: downloaded_pdfs\\Na_Ka_bynta_jong_phi-_Meghalaya\\Customer_Information_Sheet_Na_Ka_bynta_jong_phi-Meghalaya_CIS.pdf\n"
     ]
    },
    {
     "name": "stderr",
     "output_type": "stream",
     "text": [
      " 23%|██▎       | 40/174 [02:26<06:30,  2.92s/it]"
     ]
    },
    {
     "name": "stdout",
     "output_type": "stream",
     "text": [
      "✅ Downloaded: downloaded_pdfs\\Na_Ka_bynta_jong_phi-_Meghalaya\\Policy_Wordings_Na_Ka_bynta_jong_phi-Meghalaya_Policy_Wordings.pdf\n"
     ]
    },
    {
     "name": "stderr",
     "output_type": "stream",
     "text": [
      " 24%|██▎       | 41/174 [02:27<05:07,  2.31s/it]"
     ]
    },
    {
     "name": "stdout",
     "output_type": "stream",
     "text": [
      "✅ Downloaded: downloaded_pdfs\\Na_Ka_bynta_jong_phi-_Meghalaya\\Proposal_Form_Na_Ka_bynta_jong_phi-Meghalaya_Proposal_Form.pdf\n"
     ]
    },
    {
     "name": "stderr",
     "output_type": "stream",
     "text": [
      " 24%|██▍       | 42/174 [02:28<04:27,  2.03s/it]"
     ]
    },
    {
     "name": "stdout",
     "output_type": "stream",
     "text": [
      "✅ Downloaded: downloaded_pdfs\\Na_Ka_bynta_jong_phi-_Meghalaya\\Proposal_Form_Na_Ka_bynta_jong_phi-Meghalaya_Digital_PF.pdf\n"
     ]
    },
    {
     "name": "stderr",
     "output_type": "stream",
     "text": [
      " 25%|██▍       | 43/174 [02:33<06:31,  2.99s/it]"
     ]
    },
    {
     "name": "stdout",
     "output_type": "stream",
     "text": [
      "✅ Downloaded: downloaded_pdfs\\Adomgidamak-_Manipur\\Brochure_Adomgidamak-Manipur_Brochure.pdf\n"
     ]
    },
    {
     "name": "stderr",
     "output_type": "stream",
     "text": [
      " 25%|██▌       | 44/174 [02:40<08:59,  4.15s/it]"
     ]
    },
    {
     "name": "stdout",
     "output_type": "stream",
     "text": [
      "✅ Downloaded: downloaded_pdfs\\Adomgidamak-_Manipur\\Brochure_Adomgidamak-Manipur.pdf\n"
     ]
    },
    {
     "name": "stderr",
     "output_type": "stream",
     "text": [
      " 26%|██▌       | 45/174 [02:42<07:01,  3.26s/it]"
     ]
    },
    {
     "name": "stdout",
     "output_type": "stream",
     "text": [
      "✅ Downloaded: downloaded_pdfs\\Adomgidamak-_Manipur\\Brochure_Adomgidamak-Manipur_Prospectus.pdf\n"
     ]
    },
    {
     "name": "stderr",
     "output_type": "stream",
     "text": [
      " 26%|██▋       | 46/174 [02:42<05:29,  2.58s/it]"
     ]
    },
    {
     "name": "stdout",
     "output_type": "stream",
     "text": [
      "✅ Downloaded: downloaded_pdfs\\Adomgidamak-_Manipur\\Customer_Information_Sheet_Adomgidamak-Manipur_CIS-.pdf\n"
     ]
    },
    {
     "name": "stderr",
     "output_type": "stream",
     "text": [
      " 27%|██▋       | 47/174 [02:44<04:31,  2.14s/it]"
     ]
    },
    {
     "name": "stdout",
     "output_type": "stream",
     "text": [
      "✅ Downloaded: downloaded_pdfs\\Adomgidamak-_Manipur\\Policy_Wordings_Adomgidamak-Manipur_Policy_Wordings.pdf\n"
     ]
    },
    {
     "name": "stderr",
     "output_type": "stream",
     "text": [
      " 28%|██▊       | 48/174 [02:45<04:01,  1.91s/it]"
     ]
    },
    {
     "name": "stdout",
     "output_type": "stream",
     "text": [
      "✅ Downloaded: downloaded_pdfs\\Adomgidamak-_Manipur\\Proposal_Form_Adomgidamak-Manipur_Proposal_Form.pdf\n"
     ]
    },
    {
     "name": "stderr",
     "output_type": "stream",
     "text": [
      " 28%|██▊       | 49/174 [02:47<03:46,  1.81s/it]"
     ]
    },
    {
     "name": "stdout",
     "output_type": "stream",
     "text": [
      "✅ Downloaded: downloaded_pdfs\\Adomgidamak-_Manipur\\Proposal_Form_Adomgidamak-Manipur_Digital_PF.pdf\n"
     ]
    },
    {
     "name": "stderr",
     "output_type": "stream",
     "text": [
      " 29%|██▊       | 50/174 [02:52<05:44,  2.78s/it]"
     ]
    },
    {
     "name": "stdout",
     "output_type": "stream",
     "text": [
      "✅ Downloaded: downloaded_pdfs\\Aapke_Liye-_Uttarakhand\\Brochure_AapKe_Liye-Uttarakhand_Brochure.pdf\n"
     ]
    },
    {
     "name": "stderr",
     "output_type": "stream",
     "text": [
      " 29%|██▉       | 51/174 [02:57<07:35,  3.70s/it]"
     ]
    },
    {
     "name": "stdout",
     "output_type": "stream",
     "text": [
      "✅ Downloaded: downloaded_pdfs\\Aapke_Liye-_Uttarakhand\\Brochure_AapKe-Liye-Uttarakhand.pdf\n"
     ]
    },
    {
     "name": "stderr",
     "output_type": "stream",
     "text": [
      " 30%|██▉       | 52/174 [02:59<06:09,  3.03s/it]"
     ]
    },
    {
     "name": "stdout",
     "output_type": "stream",
     "text": [
      "✅ Downloaded: downloaded_pdfs\\Aapke_Liye-_Uttarakhand\\Brochure_AapKe_Liye-Uttarakhand_Prospectus.pdf\n"
     ]
    },
    {
     "name": "stderr",
     "output_type": "stream",
     "text": [
      " 30%|███       | 53/174 [03:00<04:59,  2.47s/it]"
     ]
    },
    {
     "name": "stdout",
     "output_type": "stream",
     "text": [
      "✅ Downloaded: downloaded_pdfs\\Aapke_Liye-_Uttarakhand\\Customer_Information_Sheet_Aapke_Liye-Uttarakhand_CIS.pdf\n"
     ]
    },
    {
     "name": "stderr",
     "output_type": "stream",
     "text": [
      " 31%|███       | 54/174 [03:02<04:26,  2.22s/it]"
     ]
    },
    {
     "name": "stdout",
     "output_type": "stream",
     "text": [
      "✅ Downloaded: downloaded_pdfs\\Aapke_Liye-_Uttarakhand\\Policy_Wordings_AapKe_Liye-Uttarakhand_Policy_Wordings.pdf\n"
     ]
    },
    {
     "name": "stderr",
     "output_type": "stream",
     "text": [
      " 32%|███▏      | 55/174 [03:03<04:04,  2.05s/it]"
     ]
    },
    {
     "name": "stdout",
     "output_type": "stream",
     "text": [
      "✅ Downloaded: downloaded_pdfs\\Aapke_Liye-_Uttarakhand\\Proposal_Form_AapKe_Liye-Uttarkhand_Proposal_Form.pdf\n"
     ]
    },
    {
     "name": "stderr",
     "output_type": "stream",
     "text": [
      " 32%|███▏      | 56/174 [03:04<03:26,  1.75s/it]"
     ]
    },
    {
     "name": "stdout",
     "output_type": "stream",
     "text": [
      "✅ Downloaded: downloaded_pdfs\\Aapke_Liye-_Uttarakhand\\Proposal_Form_AapKe_Liye_Uttarakhand_Digital_PF.pdf\n"
     ]
    },
    {
     "name": "stderr",
     "output_type": "stream",
     "text": [
      " 33%|███▎      | 57/174 [03:12<06:50,  3.51s/it]"
     ]
    },
    {
     "name": "stdout",
     "output_type": "stream",
     "text": [
      "✅ Downloaded: downloaded_pdfs\\Aapke_Liye-_Uttar_Pradesh\\Brochure_AapKe_Liye-Uttar_Pradesh_Brochure.pdf\n"
     ]
    },
    {
     "name": "stderr",
     "output_type": "stream",
     "text": [
      " 33%|███▎      | 58/174 [03:21<10:00,  5.17s/it]"
     ]
    },
    {
     "name": "stdout",
     "output_type": "stream",
     "text": [
      "✅ Downloaded: downloaded_pdfs\\Aapke_Liye-_Uttar_Pradesh\\Brochure_AapKe-Liye-Uttar-Pradesh.pdf\n"
     ]
    },
    {
     "name": "stderr",
     "output_type": "stream",
     "text": [
      " 34%|███▍      | 59/174 [03:22<07:39,  4.00s/it]"
     ]
    },
    {
     "name": "stdout",
     "output_type": "stream",
     "text": [
      "✅ Downloaded: downloaded_pdfs\\Aapke_Liye-_Uttar_Pradesh\\Brochure_AapKe_Liye-Uttar_Pradesh_Prospectus.pdf\n"
     ]
    },
    {
     "name": "stderr",
     "output_type": "stream",
     "text": [
      " 34%|███▍      | 60/174 [03:24<06:01,  3.17s/it]"
     ]
    },
    {
     "name": "stdout",
     "output_type": "stream",
     "text": [
      "✅ Downloaded: downloaded_pdfs\\Aapke_Liye-_Uttar_Pradesh\\Customer_Information_Sheet_AapKe_Liye-Uttar_Pradesh_CIS.pdf\n"
     ]
    },
    {
     "name": "stderr",
     "output_type": "stream",
     "text": [
      " 35%|███▌      | 61/174 [03:26<05:19,  2.83s/it]"
     ]
    },
    {
     "name": "stdout",
     "output_type": "stream",
     "text": [
      "✅ Downloaded: downloaded_pdfs\\Aapke_Liye-_Uttar_Pradesh\\Policy_Wordings_AapKe_Liye-Uttar_Pradesh_Policy_Wordings.pdf\n"
     ]
    },
    {
     "name": "stderr",
     "output_type": "stream",
     "text": [
      " 36%|███▌      | 62/174 [03:27<04:40,  2.51s/it]"
     ]
    },
    {
     "name": "stdout",
     "output_type": "stream",
     "text": [
      "✅ Downloaded: downloaded_pdfs\\Aapke_Liye-_Uttar_Pradesh\\Proposal_Form_AapKe_Liye-Uttar_Pradesh_Proposal_Form.pdf\n"
     ]
    },
    {
     "name": "stderr",
     "output_type": "stream",
     "text": [
      " 36%|███▌      | 63/174 [03:30<04:32,  2.46s/it]"
     ]
    },
    {
     "name": "stdout",
     "output_type": "stream",
     "text": [
      "✅ Downloaded: downloaded_pdfs\\Aapke_Liye-_Uttar_Pradesh\\Proposal_Form_AapKe_Liye_Uttar_Pradesh_Digital_PF.pdf\n"
     ]
    },
    {
     "name": "stderr",
     "output_type": "stream",
     "text": [
      " 37%|███▋      | 64/174 [03:36<06:29,  3.54s/it]"
     ]
    },
    {
     "name": "stdout",
     "output_type": "stream",
     "text": [
      "✅ Downloaded: downloaded_pdfs\\Tuhade_Lai-_Punjab\\Brochure_Tuhade_Lai-Punjab_Brochure.pdf\n"
     ]
    },
    {
     "name": "stderr",
     "output_type": "stream",
     "text": [
      " 37%|███▋      | 65/174 [03:42<08:03,  4.44s/it]"
     ]
    },
    {
     "name": "stdout",
     "output_type": "stream",
     "text": [
      "✅ Downloaded: downloaded_pdfs\\Tuhade_Lai-_Punjab\\Brochure_Tuhade-Lai-Punjab.pdf\n"
     ]
    },
    {
     "name": "stderr",
     "output_type": "stream",
     "text": [
      " 38%|███▊      | 66/174 [03:44<06:22,  3.54s/it]"
     ]
    },
    {
     "name": "stdout",
     "output_type": "stream",
     "text": [
      "✅ Downloaded: downloaded_pdfs\\Tuhade_Lai-_Punjab\\Brochure_Tuhade_Lai-Punjab_Prospectus.pdf\n"
     ]
    },
    {
     "name": "stderr",
     "output_type": "stream",
     "text": [
      " 39%|███▊      | 67/174 [03:45<05:02,  2.83s/it]"
     ]
    },
    {
     "name": "stdout",
     "output_type": "stream",
     "text": [
      "✅ Downloaded: downloaded_pdfs\\Tuhade_Lai-_Punjab\\Customer_Information_Sheet_Tuhade_Lai-Punjab_CIS.pdf\n"
     ]
    },
    {
     "name": "stderr",
     "output_type": "stream",
     "text": [
      " 39%|███▉      | 68/174 [03:46<04:17,  2.43s/it]"
     ]
    },
    {
     "name": "stdout",
     "output_type": "stream",
     "text": [
      "✅ Downloaded: downloaded_pdfs\\Tuhade_Lai-_Punjab\\Policy_Wordings_Tuhade_Lai-Punjab_Policy_Wordings.pdf\n"
     ]
    },
    {
     "name": "stderr",
     "output_type": "stream",
     "text": [
      " 40%|███▉      | 69/174 [03:48<03:39,  2.09s/it]"
     ]
    },
    {
     "name": "stdout",
     "output_type": "stream",
     "text": [
      "✅ Downloaded: downloaded_pdfs\\Tuhade_Lai-_Punjab\\Proposal_Form_Tuhade_Lai-Punjab_Proposal_Form.pdf\n"
     ]
    },
    {
     "name": "stderr",
     "output_type": "stream",
     "text": [
      " 40%|████      | 70/174 [03:49<03:11,  1.85s/it]"
     ]
    },
    {
     "name": "stdout",
     "output_type": "stream",
     "text": [
      "✅ Downloaded: downloaded_pdfs\\Tuhade_Lai-_Punjab\\Proposal_Form_Tuhade_Lai-Punjab_Digital_PF.pdf\n"
     ]
    },
    {
     "name": "stderr",
     "output_type": "stream",
     "text": [
      " 41%|████      | 71/174 [03:54<04:45,  2.78s/it]"
     ]
    },
    {
     "name": "stdout",
     "output_type": "stream",
     "text": [
      "✅ Downloaded: downloaded_pdfs\\Aapke_Liye-_Rajasthan\\Brochure_AapKe_Liye-Rajasthan_Brochure.pdf\n"
     ]
    },
    {
     "name": "stderr",
     "output_type": "stream",
     "text": [
      " 41%|████▏     | 72/174 [03:59<05:39,  3.32s/it]"
     ]
    },
    {
     "name": "stdout",
     "output_type": "stream",
     "text": [
      "✅ Downloaded: downloaded_pdfs\\Aapke_Liye-_Rajasthan\\Brochure_AapKe-Liye-Rajasthan.pdf\n"
     ]
    },
    {
     "name": "stderr",
     "output_type": "stream",
     "text": [
      " 42%|████▏     | 73/174 [04:00<04:25,  2.63s/it]"
     ]
    },
    {
     "name": "stdout",
     "output_type": "stream",
     "text": [
      "✅ Downloaded: downloaded_pdfs\\Aapke_Liye-_Rajasthan\\Brochure_AapKe_Liye-Rajasthan_Prospectus.pdf\n"
     ]
    },
    {
     "name": "stderr",
     "output_type": "stream",
     "text": [
      " 43%|████▎     | 74/174 [04:01<03:33,  2.14s/it]"
     ]
    },
    {
     "name": "stdout",
     "output_type": "stream",
     "text": [
      "✅ Downloaded: downloaded_pdfs\\Aapke_Liye-_Rajasthan\\Customer_Information_Sheet_AapKe_Liye-Rajasthan_CIS.pdf\n"
     ]
    },
    {
     "name": "stderr",
     "output_type": "stream",
     "text": [
      " 43%|████▎     | 75/174 [04:02<03:15,  1.98s/it]"
     ]
    },
    {
     "name": "stdout",
     "output_type": "stream",
     "text": [
      "✅ Downloaded: downloaded_pdfs\\Aapke_Liye-_Rajasthan\\Policy_Wordings_AapKe_Liye-Rajasthan_Policy_Wordings.pdf\n"
     ]
    },
    {
     "name": "stderr",
     "output_type": "stream",
     "text": [
      " 44%|████▎     | 76/174 [04:03<02:44,  1.68s/it]"
     ]
    },
    {
     "name": "stdout",
     "output_type": "stream",
     "text": [
      "✅ Downloaded: downloaded_pdfs\\Aapke_Liye-_Rajasthan\\Proposal_Form_AapKe_Liye-Rajasthan_Proposal_Form.pdf\n"
     ]
    },
    {
     "name": "stderr",
     "output_type": "stream",
     "text": [
      " 44%|████▍     | 77/174 [04:04<02:24,  1.49s/it]"
     ]
    },
    {
     "name": "stdout",
     "output_type": "stream",
     "text": [
      "✅ Downloaded: downloaded_pdfs\\Aapke_Liye-_Rajasthan\\Proposal_Form_AapKe_Liye_Rajasthan_Digital_PF.pdf\n"
     ]
    },
    {
     "name": "stderr",
     "output_type": "stream",
     "text": [
      " 45%|████▍     | 78/174 [04:09<04:00,  2.50s/it]"
     ]
    },
    {
     "name": "stdout",
     "output_type": "stream",
     "text": [
      "✅ Downloaded: downloaded_pdfs\\Aapke_Liye-_Madhya_Pradesh_and_Chhattisgarh\\Brochure_AapKe_Liye-Madhya_Pradesh_Chhattisgarh_Brochure.pdf\n"
     ]
    },
    {
     "name": "stderr",
     "output_type": "stream",
     "text": [
      " 45%|████▌     | 79/174 [04:14<04:58,  3.14s/it]"
     ]
    },
    {
     "name": "stdout",
     "output_type": "stream",
     "text": [
      "✅ Downloaded: downloaded_pdfs\\Aapke_Liye-_Madhya_Pradesh_and_Chhattisgarh\\Brochure_AapKe-Liye-Madhya-Pradesh-Chhattisgarh.pdf\n"
     ]
    },
    {
     "name": "stderr",
     "output_type": "stream",
     "text": [
      " 46%|████▌     | 80/174 [04:15<03:58,  2.54s/it]"
     ]
    },
    {
     "name": "stdout",
     "output_type": "stream",
     "text": [
      "✅ Downloaded: downloaded_pdfs\\Aapke_Liye-_Madhya_Pradesh_and_Chhattisgarh\\Brochure_Aapke_Liye_Madhya_Pradesh_Chhattisgarh_Prospectus.pdf\n"
     ]
    },
    {
     "name": "stderr",
     "output_type": "stream",
     "text": [
      " 47%|████▋     | 81/174 [04:16<03:31,  2.28s/it]"
     ]
    },
    {
     "name": "stdout",
     "output_type": "stream",
     "text": [
      "✅ Downloaded: downloaded_pdfs\\Aapke_Liye-_Madhya_Pradesh_and_Chhattisgarh\\Customer_Information_Sheet_AapKe_Liye-Madhya_Pradesh_Chhattisgarh_CIS.pdf\n"
     ]
    },
    {
     "name": "stderr",
     "output_type": "stream",
     "text": [
      " 47%|████▋     | 82/174 [04:18<03:05,  2.02s/it]"
     ]
    },
    {
     "name": "stdout",
     "output_type": "stream",
     "text": [
      "✅ Downloaded: downloaded_pdfs\\Aapke_Liye-_Madhya_Pradesh_and_Chhattisgarh\\Policy_Wordings_Aapke_Liye-Madhya_Pradesh_Chhattisgarh_Policy_Wordings.pdf\n"
     ]
    },
    {
     "name": "stderr",
     "output_type": "stream",
     "text": [
      " 48%|████▊     | 83/174 [04:19<02:37,  1.73s/it]"
     ]
    },
    {
     "name": "stdout",
     "output_type": "stream",
     "text": [
      "✅ Downloaded: downloaded_pdfs\\Aapke_Liye-_Madhya_Pradesh_and_Chhattisgarh\\Proposal_Form_AapKe_Liye-Madhya_Pradesh_Proposal_Form.pdf\n"
     ]
    },
    {
     "name": "stderr",
     "output_type": "stream",
     "text": [
      " 48%|████▊     | 84/174 [04:20<02:18,  1.54s/it]"
     ]
    },
    {
     "name": "stdout",
     "output_type": "stream",
     "text": [
      "✅ Downloaded: downloaded_pdfs\\Aapke_Liye-_Madhya_Pradesh_and_Chhattisgarh\\Proposal_Form_AapKe_Liye-Madhya_Pradesh_Digital_PF.pdf\n"
     ]
    },
    {
     "name": "stderr",
     "output_type": "stream",
     "text": [
      " 49%|████▉     | 85/174 [04:24<03:22,  2.28s/it]"
     ]
    },
    {
     "name": "stdout",
     "output_type": "stream",
     "text": [
      "✅ Downloaded: downloaded_pdfs\\Aapke_Liye-_Himachal_Pradesh\\Brochure_AapKe_Liye-Himachal_Pradesh_Brochure.pdf\n"
     ]
    },
    {
     "name": "stderr",
     "output_type": "stream",
     "text": [
      " 49%|████▉     | 86/174 [04:29<04:19,  2.95s/it]"
     ]
    },
    {
     "name": "stdout",
     "output_type": "stream",
     "text": [
      "✅ Downloaded: downloaded_pdfs\\Aapke_Liye-_Himachal_Pradesh\\Brochure_AapKe-Liye-Himachal-Pradesh.pdf\n"
     ]
    },
    {
     "name": "stderr",
     "output_type": "stream",
     "text": [
      " 50%|█████     | 87/174 [04:30<03:35,  2.48s/it]"
     ]
    },
    {
     "name": "stdout",
     "output_type": "stream",
     "text": [
      "✅ Downloaded: downloaded_pdfs\\Aapke_Liye-_Himachal_Pradesh\\Brochure_AapKe_Liye-Himachal_Pradesh_Prospectus.pdf\n"
     ]
    },
    {
     "name": "stderr",
     "output_type": "stream",
     "text": [
      " 51%|█████     | 88/174 [04:32<03:09,  2.20s/it]"
     ]
    },
    {
     "name": "stdout",
     "output_type": "stream",
     "text": [
      "✅ Downloaded: downloaded_pdfs\\Aapke_Liye-_Himachal_Pradesh\\Customer_Information_Sheet_AapKe_Liye-Himachal_Pradesh_CIS.pdf\n"
     ]
    },
    {
     "name": "stderr",
     "output_type": "stream",
     "text": [
      " 51%|█████     | 89/174 [04:33<02:41,  1.90s/it]"
     ]
    },
    {
     "name": "stdout",
     "output_type": "stream",
     "text": [
      "✅ Downloaded: downloaded_pdfs\\Aapke_Liye-_Himachal_Pradesh\\Policy_Wordings_AapKe_Liye-Himachal_Pradesh_Policy_Wordings.pdf\n"
     ]
    },
    {
     "name": "stderr",
     "output_type": "stream",
     "text": [
      " 52%|█████▏    | 90/174 [04:35<02:37,  1.88s/it]"
     ]
    },
    {
     "name": "stdout",
     "output_type": "stream",
     "text": [
      "✅ Downloaded: downloaded_pdfs\\Aapke_Liye-_Himachal_Pradesh\\Proposal_Form_AapKe_Liye-Himachal_Pradesh_Proposal_Form.pdf\n"
     ]
    },
    {
     "name": "stderr",
     "output_type": "stream",
     "text": [
      " 52%|█████▏    | 91/174 [04:36<02:15,  1.63s/it]"
     ]
    },
    {
     "name": "stdout",
     "output_type": "stream",
     "text": [
      "✅ Downloaded: downloaded_pdfs\\Aapke_Liye-_Himachal_Pradesh\\Proposal_Form_Aapke_Liye-Himachal_Pradesh_Digital_PF.pdf\n"
     ]
    },
    {
     "name": "stderr",
     "output_type": "stream",
     "text": [
      " 53%|█████▎    | 92/174 [04:40<03:17,  2.41s/it]"
     ]
    },
    {
     "name": "stdout",
     "output_type": "stream",
     "text": [
      "✅ Downloaded: downloaded_pdfs\\Aapke_Liye-_Arunachal_Pradesh\\Brochure_Aapke_Liye-Arunachal_Pradesh_Brochure.pdf\n"
     ]
    },
    {
     "name": "stderr",
     "output_type": "stream",
     "text": [
      " 53%|█████▎    | 93/174 [04:41<02:43,  2.02s/it]"
     ]
    },
    {
     "name": "stdout",
     "output_type": "stream",
     "text": [
      "✅ Downloaded: downloaded_pdfs\\Aapke_Liye-_Arunachal_Pradesh\\Brochure_AapKe_Liye-Arunachal_Pradesh_Prospectus.pdf\n"
     ]
    },
    {
     "name": "stderr",
     "output_type": "stream",
     "text": [
      " 54%|█████▍    | 94/174 [04:42<02:22,  1.78s/it]"
     ]
    },
    {
     "name": "stdout",
     "output_type": "stream",
     "text": [
      "✅ Downloaded: downloaded_pdfs\\Aapke_Liye-_Arunachal_Pradesh\\Customer_Information_Sheet_AapKe_Liye-Arunachal_Pradesh_CIS.pdf\n"
     ]
    },
    {
     "name": "stderr",
     "output_type": "stream",
     "text": [
      " 55%|█████▍    | 95/174 [04:44<02:19,  1.76s/it]"
     ]
    },
    {
     "name": "stdout",
     "output_type": "stream",
     "text": [
      "✅ Downloaded: downloaded_pdfs\\Aapke_Liye-_Arunachal_Pradesh\\Policy_Wordings_AapKe_Liye-Arunachal_Pradesh_Policy_Wordings.pdf\n"
     ]
    },
    {
     "name": "stderr",
     "output_type": "stream",
     "text": [
      " 55%|█████▌    | 96/174 [04:45<02:07,  1.63s/it]"
     ]
    },
    {
     "name": "stdout",
     "output_type": "stream",
     "text": [
      "✅ Downloaded: downloaded_pdfs\\Aapke_Liye-_Arunachal_Pradesh\\Proposal_Form_AapKe_Liye-Arunachal_Pradesh_Proposal_Form.pdf\n"
     ]
    },
    {
     "name": "stderr",
     "output_type": "stream",
     "text": [
      " 56%|█████▌    | 97/174 [04:46<01:56,  1.52s/it]"
     ]
    },
    {
     "name": "stdout",
     "output_type": "stream",
     "text": [
      "✅ Downloaded: downloaded_pdfs\\Aapke_Liye-_Arunachal_Pradesh\\Proposal_Form_AapKe_Liye-Arunachal_Pradesh_Digital_PF.pdf\n"
     ]
    },
    {
     "name": "stderr",
     "output_type": "stream",
     "text": [
      " 56%|█████▋    | 98/174 [04:52<03:35,  2.83s/it]"
     ]
    },
    {
     "name": "stdout",
     "output_type": "stream",
     "text": [
      "✅ Downloaded: downloaded_pdfs\\Tujya_Khatir-_Goa\\Brochure_Tujya_Khatir-Goa_Brochure.pdf\n"
     ]
    },
    {
     "name": "stderr",
     "output_type": "stream",
     "text": [
      " 57%|█████▋    | 99/174 [05:01<05:53,  4.72s/it]"
     ]
    },
    {
     "name": "stdout",
     "output_type": "stream",
     "text": [
      "✅ Downloaded: downloaded_pdfs\\Tujya_Khatir-_Goa\\Brochure_Tujya-Khatir-Goa.pdf\n"
     ]
    },
    {
     "name": "stderr",
     "output_type": "stream",
     "text": [
      " 57%|█████▋    | 100/174 [05:03<04:45,  3.86s/it]"
     ]
    },
    {
     "name": "stdout",
     "output_type": "stream",
     "text": [
      "✅ Downloaded: downloaded_pdfs\\Tujya_Khatir-_Goa\\Brochure_Tujya_Khatir-Goa_Prospectus.pdf\n"
     ]
    },
    {
     "name": "stderr",
     "output_type": "stream",
     "text": [
      " 58%|█████▊    | 101/174 [05:06<04:17,  3.53s/it]"
     ]
    },
    {
     "name": "stdout",
     "output_type": "stream",
     "text": [
      "✅ Downloaded: downloaded_pdfs\\Tujya_Khatir-_Goa\\Customer_Information_Sheet_Tujya_Khatir-Goa_CIS.pdf\n"
     ]
    },
    {
     "name": "stderr",
     "output_type": "stream",
     "text": [
      " 59%|█████▊    | 102/174 [05:09<04:02,  3.36s/it]"
     ]
    },
    {
     "name": "stdout",
     "output_type": "stream",
     "text": [
      "✅ Downloaded: downloaded_pdfs\\Tujya_Khatir-_Goa\\Policy_Wordings_Tujya_Khatir-Goa_Policy_Wordings.pdf\n"
     ]
    },
    {
     "name": "stderr",
     "output_type": "stream",
     "text": [
      " 59%|█████▉    | 103/174 [05:12<03:51,  3.26s/it]"
     ]
    },
    {
     "name": "stdout",
     "output_type": "stream",
     "text": [
      "✅ Downloaded: downloaded_pdfs\\Tujya_Khatir-_Goa\\Proposal_Form_Tujya_Khatir-Goa_Proposal_Form.pdf\n"
     ]
    },
    {
     "name": "stderr",
     "output_type": "stream",
     "text": [
      " 60%|█████▉    | 104/174 [05:15<03:32,  3.04s/it]"
     ]
    },
    {
     "name": "stdout",
     "output_type": "stream",
     "text": [
      "✅ Downloaded: downloaded_pdfs\\Tujya_Khatir-_Goa\\Proposal_Form_Tujya_Khatir-Goa_Digital_PF.pdf\n"
     ]
    },
    {
     "name": "stderr",
     "output_type": "stream",
     "text": [
      " 60%|██████    | 105/174 [05:29<07:30,  6.53s/it]"
     ]
    },
    {
     "name": "stdout",
     "output_type": "stream",
     "text": [
      "✅ Downloaded: downloaded_pdfs\\I_tan-_Mizoram\\Brochure_I_tan-Mizoram_Brochure.pdf\n"
     ]
    },
    {
     "name": "stderr",
     "output_type": "stream",
     "text": [
      " 61%|██████    | 106/174 [05:38<08:01,  7.09s/it]"
     ]
    },
    {
     "name": "stdout",
     "output_type": "stream",
     "text": [
      "✅ Downloaded: downloaded_pdfs\\I_tan-_Mizoram\\Brochure_I-tan-Mizoram.pdf\n"
     ]
    },
    {
     "name": "stderr",
     "output_type": "stream",
     "text": [
      " 61%|██████▏   | 107/174 [05:39<05:54,  5.29s/it]"
     ]
    },
    {
     "name": "stdout",
     "output_type": "stream",
     "text": [
      "✅ Downloaded: downloaded_pdfs\\I_tan-_Mizoram\\Brochure_I-tan-Mizoram_Prospectus.pdf\n"
     ]
    },
    {
     "name": "stderr",
     "output_type": "stream",
     "text": [
      " 62%|██████▏   | 108/174 [05:40<04:33,  4.14s/it]"
     ]
    },
    {
     "name": "stdout",
     "output_type": "stream",
     "text": [
      "✅ Downloaded: downloaded_pdfs\\I_tan-_Mizoram\\Customer_Information_Sheet_I_tan-Mizoram_CIS.pdf\n"
     ]
    },
    {
     "name": "stderr",
     "output_type": "stream",
     "text": [
      " 63%|██████▎   | 109/174 [05:42<03:35,  3.32s/it]"
     ]
    },
    {
     "name": "stdout",
     "output_type": "stream",
     "text": [
      "✅ Downloaded: downloaded_pdfs\\I_tan-_Mizoram\\Policy_Wordings_I-tan-Mizoram_Policy_Wordings.pdf\n"
     ]
    },
    {
     "name": "stderr",
     "output_type": "stream",
     "text": [
      " 63%|██████▎   | 110/174 [05:43<02:55,  2.75s/it]"
     ]
    },
    {
     "name": "stdout",
     "output_type": "stream",
     "text": [
      "✅ Downloaded: downloaded_pdfs\\I_tan-_Mizoram\\Proposal_Form_I_tan-Mizoram_Proposal_Form.pdf\n"
     ]
    },
    {
     "name": "stderr",
     "output_type": "stream",
     "text": [
      " 64%|██████▍   | 111/174 [05:44<02:22,  2.26s/it]"
     ]
    },
    {
     "name": "stdout",
     "output_type": "stream",
     "text": [
      "✅ Downloaded: downloaded_pdfs\\I_tan-_Mizoram\\Proposal_Form_I_tan-Mizoram_Digital_PF.pdf\n"
     ]
    },
    {
     "name": "stderr",
     "output_type": "stream",
     "text": [
      " 64%|██████▍   | 112/174 [05:53<04:22,  4.23s/it]"
     ]
    },
    {
     "name": "stdout",
     "output_type": "stream",
     "text": [
      "✅ Downloaded: downloaded_pdfs\\Ningalkkayi-_Kerala_(incl._Lakshadweep)\\Brochure_Ningalkkayi-Kerala(incl._Lakshadweep)_Brochure.pdf\n"
     ]
    },
    {
     "name": "stderr",
     "output_type": "stream",
     "text": [
      " 65%|██████▍   | 113/174 [06:02<05:45,  5.66s/it]"
     ]
    },
    {
     "name": "stdout",
     "output_type": "stream",
     "text": [
      "✅ Downloaded: downloaded_pdfs\\Ningalkkayi-_Kerala_(incl._Lakshadweep)\\Brochure_Ningalkkayi-Kerala-(incl-Lakshadweep).pdf\n"
     ]
    },
    {
     "name": "stderr",
     "output_type": "stream",
     "text": [
      " 66%|██████▌   | 114/174 [06:03<04:24,  4.40s/it]"
     ]
    },
    {
     "name": "stdout",
     "output_type": "stream",
     "text": [
      "✅ Downloaded: downloaded_pdfs\\Ningalkkayi-_Kerala_(incl._Lakshadweep)\\Brochure_Ningalkkayi-Kerala_(Including_Lakshadweep)_Prospectus.pdf\n"
     ]
    },
    {
     "name": "stderr",
     "output_type": "stream",
     "text": [
      " 66%|██████▌   | 115/174 [06:04<03:19,  3.38s/it]"
     ]
    },
    {
     "name": "stdout",
     "output_type": "stream",
     "text": [
      "✅ Downloaded: downloaded_pdfs\\Ningalkkayi-_Kerala_(incl._Lakshadweep)\\Customer_Information_Sheet_Ningalkkayi-Kerala_(Including_Lakshadweep)_CIS.pdf\n"
     ]
    },
    {
     "name": "stderr",
     "output_type": "stream",
     "text": [
      " 67%|██████▋   | 116/174 [06:06<02:39,  2.74s/it]"
     ]
    },
    {
     "name": "stdout",
     "output_type": "stream",
     "text": [
      "✅ Downloaded: downloaded_pdfs\\Ningalkkayi-_Kerala_(incl._Lakshadweep)\\Policy_Wordings_Ningalkkayi-Kerala_(Including_Lakshadweep)_Policy_Wordings.pdf\n"
     ]
    },
    {
     "name": "stderr",
     "output_type": "stream",
     "text": [
      " 67%|██████▋   | 117/174 [06:07<02:06,  2.23s/it]"
     ]
    },
    {
     "name": "stdout",
     "output_type": "stream",
     "text": [
      "✅ Downloaded: downloaded_pdfs\\Ningalkkayi-_Kerala_(incl._Lakshadweep)\\Proposal_Form_Ningalkkayi-Kerala-(Including-Lakshadweep)_Proposal-form.pdf\n"
     ]
    },
    {
     "name": "stderr",
     "output_type": "stream",
     "text": [
      " 68%|██████▊   | 118/174 [06:08<01:51,  2.00s/it]"
     ]
    },
    {
     "name": "stdout",
     "output_type": "stream",
     "text": [
      "✅ Downloaded: downloaded_pdfs\\Ningalkkayi-_Kerala_(incl._Lakshadweep)\\Proposal_Form_Ningalkkayi-Kerala(Including_Lakshadweep)_Digital_PF.pdf\n"
     ]
    },
    {
     "name": "stderr",
     "output_type": "stream",
     "text": [
      " 68%|██████▊   | 119/174 [06:15<03:04,  3.36s/it]"
     ]
    },
    {
     "name": "stdout",
     "output_type": "stream",
     "text": [
      "✅ Downloaded: downloaded_pdfs\\Apnar_Jonyo-_Tripura\\Brochure_Apnar_Jonyo-Tripura_Brochure.pdf\n"
     ]
    },
    {
     "name": "stderr",
     "output_type": "stream",
     "text": [
      " 69%|██████▉   | 120/174 [06:21<03:46,  4.19s/it]"
     ]
    },
    {
     "name": "stdout",
     "output_type": "stream",
     "text": [
      "✅ Downloaded: downloaded_pdfs\\Apnar_Jonyo-_Tripura\\Brochure_Apnar-Jonyo-Tripura.pdf\n"
     ]
    },
    {
     "name": "stderr",
     "output_type": "stream",
     "text": [
      " 70%|██████▉   | 121/174 [06:22<02:51,  3.24s/it]"
     ]
    },
    {
     "name": "stdout",
     "output_type": "stream",
     "text": [
      "✅ Downloaded: downloaded_pdfs\\Apnar_Jonyo-_Tripura\\Brochure_Apnar_Jonyo-Tripura_Prospectus.pdf\n"
     ]
    },
    {
     "name": "stderr",
     "output_type": "stream",
     "text": [
      " 70%|███████   | 122/174 [06:23<02:13,  2.56s/it]"
     ]
    },
    {
     "name": "stdout",
     "output_type": "stream",
     "text": [
      "✅ Downloaded: downloaded_pdfs\\Apnar_Jonyo-_Tripura\\Customer_Information_Sheet_Apnar_Jonyo-Tripura_CIS.pdf\n"
     ]
    },
    {
     "name": "stderr",
     "output_type": "stream",
     "text": [
      " 71%|███████   | 123/174 [06:25<02:03,  2.43s/it]"
     ]
    },
    {
     "name": "stdout",
     "output_type": "stream",
     "text": [
      "✅ Downloaded: downloaded_pdfs\\Apnar_Jonyo-_Tripura\\Policy_Wordings_Apnar_Jonyo-Tripura_Policy_Wordings.pdf\n"
     ]
    },
    {
     "name": "stderr",
     "output_type": "stream",
     "text": [
      " 71%|███████▏  | 124/174 [06:26<01:43,  2.07s/it]"
     ]
    },
    {
     "name": "stdout",
     "output_type": "stream",
     "text": [
      "✅ Downloaded: downloaded_pdfs\\Apnar_Jonyo-_Tripura\\Proposal_Form_Apnar_Jonyo-Tripura_Proposal_Form.pdf\n"
     ]
    },
    {
     "name": "stderr",
     "output_type": "stream",
     "text": [
      " 72%|███████▏  | 125/174 [06:28<01:34,  1.93s/it]"
     ]
    },
    {
     "name": "stdout",
     "output_type": "stream",
     "text": [
      "✅ Downloaded: downloaded_pdfs\\Apnar_Jonyo-_Tripura\\Proposal_Form_Apnar_Jonyo-Tripura_Digital_PF.pdf\n"
     ]
    },
    {
     "name": "stderr",
     "output_type": "stream",
     "text": [
      " 72%|███████▏  | 126/174 [06:33<02:16,  2.84s/it]"
     ]
    },
    {
     "name": "stdout",
     "output_type": "stream",
     "text": [
      "✅ Downloaded: downloaded_pdfs\\Opuni_Karoni-_Nagaland\\Brochure_Opuni_Karoni_Nagaland_Brochure.pdf\n"
     ]
    },
    {
     "name": "stderr",
     "output_type": "stream",
     "text": [
      " 73%|███████▎  | 127/174 [06:39<03:04,  3.93s/it]"
     ]
    },
    {
     "name": "stdout",
     "output_type": "stream",
     "text": [
      "✅ Downloaded: downloaded_pdfs\\Opuni_Karoni-_Nagaland\\Brochure_Opuni-Karoni-Nagaland.pdf\n"
     ]
    },
    {
     "name": "stderr",
     "output_type": "stream",
     "text": [
      " 74%|███████▎  | 128/174 [06:40<02:21,  3.07s/it]"
     ]
    },
    {
     "name": "stdout",
     "output_type": "stream",
     "text": [
      "✅ Downloaded: downloaded_pdfs\\Opuni_Karoni-_Nagaland\\Brochure_Opuni_Karoni-Nagaland_Prospectus.pdf\n"
     ]
    },
    {
     "name": "stderr",
     "output_type": "stream",
     "text": [
      " 74%|███████▍  | 129/174 [06:41<01:50,  2.45s/it]"
     ]
    },
    {
     "name": "stdout",
     "output_type": "stream",
     "text": [
      "✅ Downloaded: downloaded_pdfs\\Opuni_Karoni-_Nagaland\\Customer_Information_Sheet_Opuni_Karoni-Nagaland_CIS.pdf\n"
     ]
    },
    {
     "name": "stderr",
     "output_type": "stream",
     "text": [
      " 75%|███████▍  | 130/174 [06:43<01:34,  2.15s/it]"
     ]
    },
    {
     "name": "stdout",
     "output_type": "stream",
     "text": [
      "✅ Downloaded: downloaded_pdfs\\Opuni_Karoni-_Nagaland\\Policy_Wordings_Opuni_Karoni-Nagaland_Policy_Wordings.pdf\n"
     ]
    },
    {
     "name": "stderr",
     "output_type": "stream",
     "text": [
      " 75%|███████▌  | 131/174 [06:44<01:21,  1.89s/it]"
     ]
    },
    {
     "name": "stdout",
     "output_type": "stream",
     "text": [
      "✅ Downloaded: downloaded_pdfs\\Opuni_Karoni-_Nagaland\\Proposal_Form_Opuni_Karoni-Nagaland_Proposal_Form.pdf\n"
     ]
    },
    {
     "name": "stderr",
     "output_type": "stream",
     "text": [
      " 76%|███████▌  | 132/174 [06:46<01:13,  1.76s/it]"
     ]
    },
    {
     "name": "stdout",
     "output_type": "stream",
     "text": [
      "✅ Downloaded: downloaded_pdfs\\Opuni_Karoni-_Nagaland\\Proposal_Form_Opuni_Karoni-Nagaland-Digital_PF.pdf\n"
     ]
    },
    {
     "name": "stderr",
     "output_type": "stream",
     "text": [
      " 76%|███████▋  | 133/174 [06:52<02:06,  3.09s/it]"
     ]
    },
    {
     "name": "stdout",
     "output_type": "stream",
     "text": [
      "✅ Downloaded: downloaded_pdfs\\Tapainko_Lagi-_Sikkim\\Brochure_Tapainko_Lagi-Sikkim_Brochure.pdf\n"
     ]
    },
    {
     "name": "stderr",
     "output_type": "stream",
     "text": [
      " 77%|███████▋  | 134/174 [06:57<02:26,  3.66s/it]"
     ]
    },
    {
     "name": "stdout",
     "output_type": "stream",
     "text": [
      "✅ Downloaded: downloaded_pdfs\\Tapainko_Lagi-_Sikkim\\Brochure_Tapainko-Lagi-Sikkim.pdf\n"
     ]
    },
    {
     "name": "stderr",
     "output_type": "stream",
     "text": [
      " 78%|███████▊  | 135/174 [06:58<01:52,  2.90s/it]"
     ]
    },
    {
     "name": "stdout",
     "output_type": "stream",
     "text": [
      "✅ Downloaded: downloaded_pdfs\\Tapainko_Lagi-_Sikkim\\Brochure_Tapainko_Lagi-Sikkim_Prospectus.pdf\n"
     ]
    },
    {
     "name": "stderr",
     "output_type": "stream",
     "text": [
      " 78%|███████▊  | 136/174 [06:59<01:32,  2.43s/it]"
     ]
    },
    {
     "name": "stdout",
     "output_type": "stream",
     "text": [
      "✅ Downloaded: downloaded_pdfs\\Tapainko_Lagi-_Sikkim\\Customer_Information_Sheet_Tapainko_Lagi-Sikkim_CIS.pdf\n"
     ]
    },
    {
     "name": "stderr",
     "output_type": "stream",
     "text": [
      " 79%|███████▊  | 137/174 [07:01<01:22,  2.24s/it]"
     ]
    },
    {
     "name": "stdout",
     "output_type": "stream",
     "text": [
      "✅ Downloaded: downloaded_pdfs\\Tapainko_Lagi-_Sikkim\\Policy_Wordings_Tapainko_Lagi-Sikkim_Policy_Wordings.pdf\n"
     ]
    },
    {
     "name": "stderr",
     "output_type": "stream",
     "text": [
      " 79%|███████▉  | 138/174 [07:02<01:08,  1.91s/it]"
     ]
    },
    {
     "name": "stdout",
     "output_type": "stream",
     "text": [
      "✅ Downloaded: downloaded_pdfs\\Tapainko_Lagi-_Sikkim\\Proposal_Form_Tapainko_Lagi-Sikkim_Proposal_Form.pdf\n"
     ]
    },
    {
     "name": "stderr",
     "output_type": "stream",
     "text": [
      " 80%|███████▉  | 139/174 [07:03<00:57,  1.64s/it]"
     ]
    },
    {
     "name": "stdout",
     "output_type": "stream",
     "text": [
      "✅ Downloaded: downloaded_pdfs\\Tapainko_Lagi-_Sikkim\\Proposal_Form_Tapainko_Lagi-Sikkim-Digital_PF.pdf\n"
     ]
    },
    {
     "name": "stderr",
     "output_type": "stream",
     "text": [
      " 80%|████████  | 140/174 [07:09<01:40,  2.97s/it]"
     ]
    },
    {
     "name": "stdout",
     "output_type": "stream",
     "text": [
      "✅ Downloaded: downloaded_pdfs\\Ungalukkaga-Tamil_Nadu_(incl._Puducherry)\\Brochure_UngalukkagaTamil_Nadu_(incl._Puducherry)_Brochure.pdf\n"
     ]
    },
    {
     "name": "stderr",
     "output_type": "stream",
     "text": [
      " 81%|████████  | 141/174 [07:16<02:14,  4.06s/it]"
     ]
    },
    {
     "name": "stdout",
     "output_type": "stream",
     "text": [
      "✅ Downloaded: downloaded_pdfs\\Ungalukkaga-Tamil_Nadu_(incl._Puducherry)\\Brochure_Ungalukkaga-Tamil-Nadu-(incl.Puducherry).pdf\n"
     ]
    },
    {
     "name": "stderr",
     "output_type": "stream",
     "text": [
      " 82%|████████▏ | 142/174 [07:17<01:44,  3.26s/it]"
     ]
    },
    {
     "name": "stdout",
     "output_type": "stream",
     "text": [
      "✅ Downloaded: downloaded_pdfs\\Ungalukkaga-Tamil_Nadu_(incl._Puducherry)\\Brochure_Ungalukkaga-Tamil_Nadu_(including_Puducherry)_Prospectus.pdf\n"
     ]
    },
    {
     "name": "stderr",
     "output_type": "stream",
     "text": [
      " 82%|████████▏ | 143/174 [07:18<01:20,  2.60s/it]"
     ]
    },
    {
     "name": "stdout",
     "output_type": "stream",
     "text": [
      "✅ Downloaded: downloaded_pdfs\\Ungalukkaga-Tamil_Nadu_(incl._Puducherry)\\Customer_Information_Sheet_Ungalukkaga-Tamil_Nadu_(including_Puducherry)_CIS.pdf\n"
     ]
    },
    {
     "name": "stderr",
     "output_type": "stream",
     "text": [
      " 83%|████████▎ | 144/174 [07:19<01:03,  2.12s/it]"
     ]
    },
    {
     "name": "stdout",
     "output_type": "stream",
     "text": [
      "✅ Downloaded: downloaded_pdfs\\Ungalukkaga-Tamil_Nadu_(incl._Puducherry)\\Policy_Wordings_Ungalukkaga-Tamil_Nadu_(including_Puducherry)_Policy_Wordings.pdf\n"
     ]
    },
    {
     "name": "stderr",
     "output_type": "stream",
     "text": [
      " 83%|████████▎ | 145/174 [07:20<00:53,  1.85s/it]"
     ]
    },
    {
     "name": "stdout",
     "output_type": "stream",
     "text": [
      "✅ Downloaded: downloaded_pdfs\\Ungalukkaga-Tamil_Nadu_(incl._Puducherry)\\Proposal_Form_Ungalukkaga-Tamil-Nadu-(including-Puducherry)_Proposal-form.pdf\n"
     ]
    },
    {
     "name": "stderr",
     "output_type": "stream",
     "text": [
      " 84%|████████▍ | 146/174 [07:22<00:45,  1.64s/it]"
     ]
    },
    {
     "name": "stdout",
     "output_type": "stream",
     "text": [
      "✅ Downloaded: downloaded_pdfs\\Ungalukkaga-Tamil_Nadu_(incl._Puducherry)\\Proposal_Form_Ungalukkaga-Tamil_Nadu_(including_Puducherry)_Digital_PF.pdf\n"
     ]
    },
    {
     "name": "stderr",
     "output_type": "stream",
     "text": [
      " 84%|████████▍ | 147/174 [07:26<01:06,  2.48s/it]"
     ]
    },
    {
     "name": "stdout",
     "output_type": "stream",
     "text": [
      "✅ Downloaded: downloaded_pdfs\\Aapke_Liye-_Andaman_and_Nicobar_Islands\\Brochure_AapKe_Liye-Andaman_Nicobar_Islands_Brochure.pdf\n"
     ]
    },
    {
     "name": "stderr",
     "output_type": "stream",
     "text": [
      " 85%|████████▌ | 148/174 [07:32<01:29,  3.44s/it]"
     ]
    },
    {
     "name": "stdout",
     "output_type": "stream",
     "text": [
      "✅ Downloaded: downloaded_pdfs\\Aapke_Liye-_Andaman_and_Nicobar_Islands\\Brochure_AapKe-Liye-Andaman-Nicobar-Islands_Final.pdf\n"
     ]
    },
    {
     "name": "stderr",
     "output_type": "stream",
     "text": [
      " 86%|████████▌ | 149/174 [07:33<01:09,  2.77s/it]"
     ]
    },
    {
     "name": "stdout",
     "output_type": "stream",
     "text": [
      "✅ Downloaded: downloaded_pdfs\\Aapke_Liye-_Andaman_and_Nicobar_Islands\\Brochure_AapKe_Liye-Andaman_Nicobar_Islands_Prospectus.pdf\n"
     ]
    },
    {
     "name": "stderr",
     "output_type": "stream",
     "text": [
      " 86%|████████▌ | 150/174 [07:34<00:54,  2.29s/it]"
     ]
    },
    {
     "name": "stdout",
     "output_type": "stream",
     "text": [
      "✅ Downloaded: downloaded_pdfs\\Aapke_Liye-_Andaman_and_Nicobar_Islands\\Customer_Information_Sheet_AapKe_Liye-Andaman_Nicobar_Islands_CIS.pdf\n"
     ]
    },
    {
     "name": "stderr",
     "output_type": "stream",
     "text": [
      " 87%|████████▋ | 151/174 [07:35<00:45,  2.00s/it]"
     ]
    },
    {
     "name": "stdout",
     "output_type": "stream",
     "text": [
      "✅ Downloaded: downloaded_pdfs\\Aapke_Liye-_Andaman_and_Nicobar_Islands\\Policy_Wordings_AapKe_Liye-Andaman_Nicobar_Islands_Policy_Wordings.pdf\n"
     ]
    },
    {
     "name": "stderr",
     "output_type": "stream",
     "text": [
      " 87%|████████▋ | 152/174 [07:36<00:37,  1.70s/it]"
     ]
    },
    {
     "name": "stdout",
     "output_type": "stream",
     "text": [
      "✅ Downloaded: downloaded_pdfs\\Aapke_Liye-_Andaman_and_Nicobar_Islands\\Proposal_Form_AapKe_Liye-Andaman_Nicobar_Islands_Proposal_Form.pdf\n"
     ]
    },
    {
     "name": "stderr",
     "output_type": "stream",
     "text": [
      " 88%|████████▊ | 153/174 [07:38<00:31,  1.52s/it]"
     ]
    },
    {
     "name": "stdout",
     "output_type": "stream",
     "text": [
      "✅ Downloaded: downloaded_pdfs\\Aapke_Liye-_Andaman_and_Nicobar_Islands\\Proposal_Form_AapKe_Liye-Andaman_Nicobar_Islands_Digital_PF.pdf\n"
     ]
    },
    {
     "name": "stderr",
     "output_type": "stream",
     "text": [
      " 89%|████████▊ | 154/174 [07:44<00:57,  2.88s/it]"
     ]
    },
    {
     "name": "stdout",
     "output_type": "stream",
     "text": [
      "✅ Downloaded: downloaded_pdfs\\Aapke_Liye-_Bihar_and_Jharkhand\\Brochure_AapKe_Liye-Bihar_Jharkhand_Brochure.pdf\n"
     ]
    },
    {
     "name": "stderr",
     "output_type": "stream",
     "text": [
      " 89%|████████▉ | 155/174 [07:50<01:13,  3.85s/it]"
     ]
    },
    {
     "name": "stdout",
     "output_type": "stream",
     "text": [
      "✅ Downloaded: downloaded_pdfs\\Aapke_Liye-_Bihar_and_Jharkhand\\Brochure_AapKe-Liye-Bihar-Jharkhand_Final.pdf\n"
     ]
    },
    {
     "name": "stderr",
     "output_type": "stream",
     "text": [
      " 90%|████████▉ | 156/174 [07:51<00:55,  3.10s/it]"
     ]
    },
    {
     "name": "stdout",
     "output_type": "stream",
     "text": [
      "✅ Downloaded: downloaded_pdfs\\Aapke_Liye-_Bihar_and_Jharkhand\\Brochure_AapKe_Liye-Bihar_Jharkhand_Prospectus.pdf\n"
     ]
    },
    {
     "name": "stderr",
     "output_type": "stream",
     "text": [
      " 90%|█████████ | 157/174 [07:53<00:45,  2.65s/it]"
     ]
    },
    {
     "name": "stdout",
     "output_type": "stream",
     "text": [
      "✅ Downloaded: downloaded_pdfs\\Aapke_Liye-_Bihar_and_Jharkhand\\Customer_Information_Sheet_AapKe_Liye-Bihar_Jharkhand_CIS.pdf\n"
     ]
    },
    {
     "name": "stderr",
     "output_type": "stream",
     "text": [
      " 91%|█████████ | 158/174 [07:54<00:35,  2.25s/it]"
     ]
    },
    {
     "name": "stdout",
     "output_type": "stream",
     "text": [
      "✅ Downloaded: downloaded_pdfs\\Aapke_Liye-_Bihar_and_Jharkhand\\Policy_Wordings_AapKe_Liye-Bihar_Jharkhand_Policy_Wording.pdf\n"
     ]
    },
    {
     "name": "stderr",
     "output_type": "stream",
     "text": [
      " 91%|█████████▏| 159/174 [07:55<00:30,  2.00s/it]"
     ]
    },
    {
     "name": "stdout",
     "output_type": "stream",
     "text": [
      "✅ Downloaded: downloaded_pdfs\\Aapke_Liye-_Bihar_and_Jharkhand\\Proposal_Form_AapKe_Liye-Bihar_Jharkhand_Proposal_Form.pdf\n"
     ]
    },
    {
     "name": "stderr",
     "output_type": "stream",
     "text": [
      " 92%|█████████▏| 160/174 [07:57<00:26,  1.92s/it]"
     ]
    },
    {
     "name": "stdout",
     "output_type": "stream",
     "text": [
      "✅ Downloaded: downloaded_pdfs\\Aapke_Liye-_Bihar_and_Jharkhand\\Proposal_Form_AapKe_Liye-Bihar_Jharkhand_Digital_PF.pdf\n"
     ]
    },
    {
     "name": "stderr",
     "output_type": "stream",
     "text": [
      " 93%|█████████▎| 161/174 [08:02<00:34,  2.69s/it]"
     ]
    },
    {
     "name": "stdout",
     "output_type": "stream",
     "text": [
      "✅ Downloaded: downloaded_pdfs\\Tuhund_Khatir-_Jammu_and_Kashmir\\Brochure_Tuhund_Khatir-Jammu_Kashmir_Brochure.pdf\n"
     ]
    },
    {
     "name": "stderr",
     "output_type": "stream",
     "text": [
      " 93%|█████████▎| 162/174 [08:08<00:45,  3.78s/it]"
     ]
    },
    {
     "name": "stdout",
     "output_type": "stream",
     "text": [
      "✅ Downloaded: downloaded_pdfs\\Tuhund_Khatir-_Jammu_and_Kashmir\\Brochure_Tuhund-Khatir-Jammu-Kashmir.pdf\n"
     ]
    },
    {
     "name": "stderr",
     "output_type": "stream",
     "text": [
      " 94%|█████████▎| 163/174 [08:09<00:32,  2.99s/it]"
     ]
    },
    {
     "name": "stdout",
     "output_type": "stream",
     "text": [
      "✅ Downloaded: downloaded_pdfs\\Tuhund_Khatir-_Jammu_and_Kashmir\\Brochure_Tuhund_Khatir-Jammu_Kashmir_Prospectus.pdf\n"
     ]
    },
    {
     "name": "stderr",
     "output_type": "stream",
     "text": [
      " 94%|█████████▍| 164/174 [08:10<00:23,  2.39s/it]"
     ]
    },
    {
     "name": "stdout",
     "output_type": "stream",
     "text": [
      "✅ Downloaded: downloaded_pdfs\\Tuhund_Khatir-_Jammu_and_Kashmir\\Customer_Information_Sheet_Tuhund_Khatir-Jammu_Kashmir_CIS.pdf\n"
     ]
    },
    {
     "name": "stderr",
     "output_type": "stream",
     "text": [
      " 95%|█████████▍| 165/174 [08:12<00:19,  2.15s/it]"
     ]
    },
    {
     "name": "stdout",
     "output_type": "stream",
     "text": [
      "✅ Downloaded: downloaded_pdfs\\Tuhund_Khatir-_Jammu_and_Kashmir\\Policy_Wordings_Tuhund_Khatir-Jammu_Kashmir_Policy_Wordings.pdf\n"
     ]
    },
    {
     "name": "stderr",
     "output_type": "stream",
     "text": [
      " 95%|█████████▌| 166/174 [08:13<00:15,  1.89s/it]"
     ]
    },
    {
     "name": "stdout",
     "output_type": "stream",
     "text": [
      "✅ Downloaded: downloaded_pdfs\\Tuhund_Khatir-_Jammu_and_Kashmir\\Proposal_Form_Tuhund_Khatir-Jammu_Kashmir_Proposal_Form.pdf\n"
     ]
    },
    {
     "name": "stderr",
     "output_type": "stream",
     "text": [
      " 96%|█████████▌| 167/174 [08:14<00:11,  1.69s/it]"
     ]
    },
    {
     "name": "stdout",
     "output_type": "stream",
     "text": [
      "✅ Downloaded: downloaded_pdfs\\Tuhund_Khatir-_Jammu_and_Kashmir\\Proposal_Form_Tuhund_Khatir-Jammu_Kashmir_Digital_PF.pdf\n"
     ]
    },
    {
     "name": "stderr",
     "output_type": "stream",
     "text": [
      " 97%|█████████▋| 168/174 [08:19<00:15,  2.52s/it]"
     ]
    },
    {
     "name": "stdout",
     "output_type": "stream",
     "text": [
      "✅ Downloaded: downloaded_pdfs\\Khyed_kyi_ched_du-_Ladakh\\Brochure_Khyed_kyi_ched_du-Ladakh_Brochure.pdf\n"
     ]
    },
    {
     "name": "stderr",
     "output_type": "stream",
     "text": [
      " 97%|█████████▋| 169/174 [08:28<00:22,  4.53s/it]"
     ]
    },
    {
     "name": "stdout",
     "output_type": "stream",
     "text": [
      "✅ Downloaded: downloaded_pdfs\\Khyed_kyi_ched_du-_Ladakh\\Brochure_Khyed-kyi-ched-du-Ladakh.pdf\n"
     ]
    },
    {
     "name": "stderr",
     "output_type": "stream",
     "text": [
      " 98%|█████████▊| 170/174 [08:29<00:14,  3.62s/it]"
     ]
    },
    {
     "name": "stdout",
     "output_type": "stream",
     "text": [
      "✅ Downloaded: downloaded_pdfs\\Khyed_kyi_ched_du-_Ladakh\\Brochure_Khyed_kyi_ched_du-Ladakh_Prospectus.pdf\n"
     ]
    },
    {
     "name": "stderr",
     "output_type": "stream",
     "text": [
      " 98%|█████████▊| 171/174 [08:31<00:09,  3.00s/it]"
     ]
    },
    {
     "name": "stdout",
     "output_type": "stream",
     "text": [
      "✅ Downloaded: downloaded_pdfs\\Khyed_kyi_ched_du-_Ladakh\\Customer_Information_Sheet_Khyed_kyi_ched_du-Ladakh_CIS-.pdf\n"
     ]
    },
    {
     "name": "stderr",
     "output_type": "stream",
     "text": [
      " 99%|█████████▉| 172/174 [08:32<00:04,  2.50s/it]"
     ]
    },
    {
     "name": "stdout",
     "output_type": "stream",
     "text": [
      "✅ Downloaded: downloaded_pdfs\\Khyed_kyi_ched_du-_Ladakh\\Policy_Wordings_Khyed_kyi_ched_du-Ladakh_Policy_Wordings.pdf\n"
     ]
    },
    {
     "name": "stderr",
     "output_type": "stream",
     "text": [
      " 99%|█████████▉| 173/174 [08:34<00:02,  2.18s/it]"
     ]
    },
    {
     "name": "stdout",
     "output_type": "stream",
     "text": [
      "✅ Downloaded: downloaded_pdfs\\Khyed_kyi_ched_du-_Ladakh\\Proposal_Form_Khyed_kyi_ched_du-Ladakh_Proposal_Form.pdf\n"
     ]
    },
    {
     "name": "stderr",
     "output_type": "stream",
     "text": [
      "100%|██████████| 174/174 [08:35<00:00,  2.96s/it]"
     ]
    },
    {
     "name": "stdout",
     "output_type": "stream",
     "text": [
      "✅ Downloaded: downloaded_pdfs\\Khyed_kyi_ched_du-_Ladakh\\Proposal_Form_Khyed_kyi_ched_du-Ladakh_Digital_PF.pdf\n"
     ]
    },
    {
     "name": "stderr",
     "output_type": "stream",
     "text": [
      "\n"
     ]
    }
   ],
   "source": [
    "import os\n",
    "import json\n",
    "import requests\n",
    "from pathlib import Path\n",
    "from tqdm import tqdm\n",
    "\n",
    "# 🔹 Change this path to where your JSON file is saved\n",
    "json_file = \"../data/bajaj_insurance_documents_statewise.json\"\n",
    "\n",
    "# 🔹 Choose your download directory\n",
    "download_dir = Path(\"downloaded_pdfs\")\n",
    "download_dir.mkdir(parents=True, exist_ok=True)\n",
    "\n",
    "# Load JSON data\n",
    "with open(json_file, \"r\", encoding=\"utf-8\") as f:\n",
    "    data = json.load(f)\n",
    "\n",
    "# Extract all PDF links\n",
    "pdf_links = []\n",
    "for state, categories in data[\"data\"].items():\n",
    "    for category, urls in categories.items():\n",
    "        for url in urls:\n",
    "            if url.lower().endswith(\".pdf\"):\n",
    "                pdf_links.append((state, category, url))\n",
    "\n",
    "print(f\"Found {len(pdf_links)} PDF files to download...\")\n",
    "\n",
    "# Download PDFs\n",
    "for state, category, url in tqdm(pdf_links):\n",
    "    try:\n",
    "        response = requests.get(url, stream=True, timeout=15)\n",
    "        response.raise_for_status()\n",
    "\n",
    "        # Create subdirectory for each state\n",
    "        state_dir = download_dir / state.replace(\" \", \"_\").replace(\"&\", \"and\")\n",
    "        state_dir.mkdir(parents=True, exist_ok=True)\n",
    "\n",
    "        # Save file with a clean name\n",
    "        filename = f\"{category.replace(' ', '_')}_{os.path.basename(url)}\"\n",
    "        filepath = state_dir / filename\n",
    "\n",
    "        with open(filepath, \"wb\") as f:\n",
    "            for chunk in response.iter_content(chunk_size=8192):\n",
    "                f.write(chunk)\n",
    "\n",
    "        print(f\"✅ Downloaded: {filepath}\")\n",
    "\n",
    "    except Exception as e:\n",
    "        print(f\"❌ Failed to download {url} - {e}\")\n"
   ]
  },
  {
   "cell_type": "code",
   "execution_count": null,
   "id": "73d5ff77",
   "metadata": {},
   "outputs": [],
   "source": []
  }
 ],
 "metadata": {
  "kernelspec": {
   "display_name": "bajaj-insurance-rag-based-chatbot",
   "language": "python",
   "name": "python3"
  },
  "language_info": {
   "codemirror_mode": {
    "name": "ipython",
    "version": 3
   },
   "file_extension": ".py",
   "mimetype": "text/x-python",
   "name": "python",
   "nbconvert_exporter": "python",
   "pygments_lexer": "ipython3",
   "version": "3.10.18"
  }
 },
 "nbformat": 4,
 "nbformat_minor": 5
}
