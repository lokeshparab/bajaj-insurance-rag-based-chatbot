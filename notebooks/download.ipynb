{
 "cells": [
  {
   "cell_type": "markdown",
   "id": "d31c416b",
   "metadata": {},
   "source": [
    "# Import Library"
   ]
  },
  {
   "cell_type": "code",
   "execution_count": 1,
   "id": "fa13758c",
   "metadata": {},
   "outputs": [],
   "source": [
    "import pandas as pd, numpy as np, requests, os, json\n",
    "from bs4 import BeautifulSoup as BS"
   ]
  },
  {
   "cell_type": "markdown",
   "id": "7349bdbf",
   "metadata": {},
   "source": [
    "# Static Data"
   ]
  },
  {
   "cell_type": "code",
   "execution_count": 2,
   "id": "5a439f1c",
   "metadata": {},
   "outputs": [],
   "source": [
    "source = 'https://www.bajajallianz.com/health-insurance-plans/health-insurance-documents.html'\n",
    "author = 'Bajaj Allianz'"
   ]
  },
  {
   "cell_type": "markdown",
   "id": "c6b1897b",
   "metadata": {},
   "source": [
    "# Scraper"
   ]
  },
  {
   "cell_type": "code",
   "execution_count": 3,
   "id": "b3f23ab7",
   "metadata": {},
   "outputs": [],
   "source": [
    "content =  requests.get('https://www.bajajallianz.com/health-insurance-plans/health-insurance-documents.html').content\n",
    "soup = BS(content, 'lxml')\n",
    "\n",
    "table_data = soup.find('section', {'class': 'typography-section'}).find('tbody').find_all('tr')\n"
   ]
  },
  {
   "cell_type": "code",
   "execution_count": 4,
   "id": "7fdeb71c",
   "metadata": {},
   "outputs": [
    {
     "data": {
      "text/plain": [
       "25"
      ]
     },
     "execution_count": 4,
     "metadata": {},
     "output_type": "execute_result"
    }
   ],
   "source": [
    "len(table_data)"
   ]
  },
  {
   "cell_type": "code",
   "execution_count": 5,
   "id": "1d171cc2",
   "metadata": {},
   "outputs": [],
   "source": [
    "data = {}\n",
    "columns_names = {\n",
    "    1:\"Brochure\", 2:\"Customer Information Sheet\", 3:\"Policy Wordings\", 4:\"Proposal Form\"\n",
    "}\n",
    "\n",
    "for row in table_data:\n",
    "    cols = row.find_all('td') \n",
    "    data[cols[0].text.strip()] = {\n",
    "        columns_names[idx]: [\n",
    "            link['href']\n",
    "            for link in col.find_all('a')\n",
    "        ]\n",
    "        for idx,col in enumerate(cols[1:],start=1)\n",
    "    }\n"
   ]
  },
  {
   "cell_type": "markdown",
   "id": "f81550e1",
   "metadata": {},
   "source": [
    "# Save data"
   ]
  },
  {
   "cell_type": "code",
   "execution_count": 6,
   "id": "f09b0ce8",
   "metadata": {},
   "outputs": [],
   "source": [
    "os.makedirs('../data', exist_ok=True)\n",
    "\n",
    "with open('../data/bajaj_insurance_documents_statewise.json', 'w') as f:\n",
    "    json.dump(\n",
    "        {\n",
    "            \"source\": source,\n",
    "            \"author\": author,\n",
    "            \"data\": data\n",
    "        }, \n",
    "        f, indent=4\n",
    "    )"
   ]
  }
 ],
 "metadata": {
  "kernelspec": {
   "display_name": "bajaj-insurance-rag-based-chatbot",
   "language": "python",
   "name": "python3"
  },
  "language_info": {
   "codemirror_mode": {
    "name": "ipython",
    "version": 3
   },
   "file_extension": ".py",
   "mimetype": "text/x-python",
   "name": "python",
   "nbconvert_exporter": "python",
   "pygments_lexer": "ipython3",
   "version": "3.10.18"
  }
 },
 "nbformat": 4,
 "nbformat_minor": 5
}
